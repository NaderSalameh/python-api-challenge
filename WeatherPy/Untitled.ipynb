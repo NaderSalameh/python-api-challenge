{
 "cells": [
  {
   "cell_type": "code",
   "execution_count": null,
   "metadata": {},
   "outputs": [],
   "source": [
    "columns = ['Name', 'State', 'Country', 'Acres', 'Timestamp']\n",
    "fire_df = pd.DataFrame(columns=columns)\n",
    "\n",
    "for i in lindsey_df:\n",
    "    \n",
    "\n",
    "    \n",
    "    #adding the data from the json into the empty fire_df dataframe\n",
    "    try:\n",
    "        \n",
    "        print(f\"Processing wildfires for {lindsey_df.state()}| Success)\n",
    "        print(f\"----------.----------.----------.----------.--\")\n",
    "        \n",
    "        fire_df = fire_df.append({\n",
    "                    'Name'  : response['place']['name'],\n",
    "                    'State' : response['place']['state'],\n",
    "                    'Country' : response['place']['country'],\n",
    "                    'Acres' : response['report']['areaAC'],\n",
    "                    'Timestamp' : response['report']['timestamp']#.apply(lambda x: pd.to_datetime(x,unit='s').strftime('%m/%d/%Y'))[0],\n",
    "                    ignore_index=True) \n",
    "                   \n",
    "    except:\n",
    "        print(f\"Wildfires for {lindsey_df.state()} are unavailable ***********\")\n",
    "        print(f\"----------.----------.----------.----------.--\")\n",
    "       "
   ]
  },
  {
   "cell_type": "code",
   "execution_count": 2,
   "metadata": {},
   "outputs": [
    {
     "ename": "ModuleNotFoundError",
     "evalue": "No module named 'geopy'",
     "output_type": "error",
     "traceback": [
      "\u001b[0;31m---------------------------------------------------------------------------\u001b[0m",
      "\u001b[0;31mModuleNotFoundError\u001b[0m                       Traceback (most recent call last)",
      "\u001b[0;32m<ipython-input-2-f0d10de0eb19>\u001b[0m in \u001b[0;36m<module>\u001b[0;34m\u001b[0m\n\u001b[0;32m----> 1\u001b[0;31m \u001b[0;32mfrom\u001b[0m \u001b[0mgeopy\u001b[0m \u001b[0;32mimport\u001b[0m \u001b[0mgeocoders\u001b[0m\u001b[0;34m\u001b[0m\u001b[0;34m\u001b[0m\u001b[0m\n\u001b[0m\u001b[1;32m      2\u001b[0m  \u001b[0;31m#gn = geocoders.GeoNames()\u001b[0m\u001b[0;34m\u001b[0m\u001b[0;34m\u001b[0m\u001b[0;34m\u001b[0m\u001b[0m\n\u001b[1;32m      3\u001b[0m \u001b[0;34m\u001b[0m\u001b[0m\n\u001b[1;32m      4\u001b[0m \u001b[0;31m#>>> print gn.geocode(\"Cleveland, OH 44106\")\u001b[0m\u001b[0;34m\u001b[0m\u001b[0;34m\u001b[0m\u001b[0;34m\u001b[0m\u001b[0m\n\u001b[1;32m      5\u001b[0m \u001b[0;31m#(u'Cleveland, OH, US', (41.4994954, -81.6954088))\u001b[0m\u001b[0;34m\u001b[0m\u001b[0;34m\u001b[0m\u001b[0;34m\u001b[0m\u001b[0m\n",
      "\u001b[0;31mModuleNotFoundError\u001b[0m: No module named 'geopy'"
     ]
    }
   ],
   "source": [
    "#from geopy import geocoders  \n",
    " #gn = geocoders.GeoNames()\n",
    "\n",
    "#>>> print gn.geocode(\"Cleveland, OH 44106\")\n",
    "#(u'Cleveland, OH, US', (41.4994954, -81.6954088))\n",
    "\n",
    "#>>> gn.geocode(\"Cleveland, OH\", exactly_one=False)[0]\n",
    "#(u'Cleveland, OH, US', (41.4994954, -81.6954088))"
   ]
  },
  {
   "cell_type": "code",
   "execution_count": null,
   "metadata": {},
   "outputs": [],
   "source": []
  }
 ],
 "metadata": {
  "kernelspec": {
   "display_name": "Python 3",
   "language": "python",
   "name": "python3"
  },
  "language_info": {
   "codemirror_mode": {
    "name": "ipython",
    "version": 3
   },
   "file_extension": ".py",
   "mimetype": "text/x-python",
   "name": "python",
   "nbconvert_exporter": "python",
   "pygments_lexer": "ipython3",
   "version": "3.8.3"
  }
 },
 "nbformat": 4,
 "nbformat_minor": 4
}
